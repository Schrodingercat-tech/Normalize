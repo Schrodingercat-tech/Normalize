{
 "cells": [
  {
   "cell_type": "code",
   "execution_count": 102,
   "metadata": {},
   "outputs": [],
   "source": [
    "import requests\n",
    "from ImgHandle import responsePayload,ImageData\n",
    "from PIL import Image\n",
    "from io import BytesIO\n",
    "from collections import defaultdict\n",
    "import matplotlib.pyplot as plt \n",
    "from collections import Counter\n",
    "import numpy as np\n",
    "\n",
    "content = '../assects/images/zebra cross.jpg'\n",
    "with open(content,'rb') as f:\n",
    "    image = BytesIO(f.read())\n",
    "\n",
    "model = ImageData(image)"
   ]
  },
  {
   "cell_type": "code",
   "execution_count": 84,
   "metadata": {},
   "outputs": [
    {
     "name": "stdout",
     "output_type": "stream",
     "text": [
      "\n",
      "0: 448x640 16 persons, 2 traffic lights, 1 handbag, 68.2ms\n",
      "Speed: 2.2ms preprocess, 68.2ms inference, 3.0ms postprocess per image at shape (1, 3, 448, 640)\n",
      "\n",
      "0: 448x640 16 persons, 2 traffic lights, 1 handbag, 72.9ms\n",
      "Speed: 3.0ms preprocess, 72.9ms inference, 2.0ms postprocess per image at shape (1, 3, 448, 640)\n"
     ]
    }
   ],
   "source": [
    "crop = model.imgCrop\n"
   ]
  },
  {
   "cell_type": "code",
   "execution_count": 103,
   "metadata": {},
   "outputs": [],
   "source": [
    "objs_in_pic = list(crop.keys())\n",
    "name = 'person'\n",
    "nthobj = 0\n",
    "if name in objs_in_pic:\n",
    "    images = crop[name]\n",
    "    no_of_images = len(images)\n",
    "    if 0<= nthobj <= no_of_images:\n",
    "        result = images[nthobj]\n",
    "    else : \n",
    "        result = {'response : ':f'there is no {nthobj} object in the {name} please provide the number from 0 to {no_of_images}'}\n",
    "else :\n",
    "    result = {'response : ':f'theres no {name} in the uploaded image please try to provide the names from {objs_in_pic}'}\n"
   ]
  },
  {
   "cell_type": "code",
   "execution_count": 120,
   "metadata": {},
   "outputs": [
    {
     "data": {
      "text/plain": [
       "PIL.JpegImagePlugin.JpegImageFile"
      ]
     },
     "execution_count": 120,
     "metadata": {},
     "output_type": "execute_result"
    }
   ],
   "source": [
    "bytes_io = BytesIO()\n",
    "Imgformat = model.isImageFile[1]\n",
    "# img = np.asanyarray(result)\n",
    "# Image.fromarray(img).save(bytes_io,format=f\"{Imgformat}\")\n",
    "\n",
    "type(Imgformat)\n"
   ]
  },
  {
   "cell_type": "code",
   "execution_count": 119,
   "metadata": {},
   "outputs": [
    {
     "data": {
      "text/plain": [
       "PIL.Image.Image"
      ]
     },
     "execution_count": 119,
     "metadata": {},
     "output_type": "execute_result"
    }
   ],
   "source": [
    "type(result)"
   ]
  },
  {
   "cell_type": "code",
   "execution_count": 73,
   "metadata": {},
   "outputs": [
    {
     "data": {
      "text/plain": [
       "{'key1': 3, 'key2': 2, 'key3': 4}"
      ]
     },
     "execution_count": 73,
     "metadata": {},
     "output_type": "execute_result"
    }
   ],
   "source": [
    "original_dict = {\n",
    "    'key1': [1, 2, 3],\n",
    "    'key2': [4, 5],\n",
    "    'key3': [6, 7, 8, 9]\n",
    "}\n",
    "\n",
    "# Use map to create a new dictionary with lengths instead of lists\n",
    "length_dict = dict(map(lambda item: (item[0], len(item[1])), original_dict.items()))\n",
    "\n",
    "{key : len(value) for key,value in original_dict.items()}"
   ]
  },
  {
   "cell_type": "code",
   "execution_count": 24,
   "metadata": {},
   "outputs": [
    {
     "name": "stdout",
     "output_type": "stream",
     "text": [
      "\n",
      "0: 448x640 16 persons, 2 traffic lights, 1 handbag, 107.4ms\n",
      "Speed: 5.5ms preprocess, 107.4ms inference, 7.0ms postprocess per image at shape (1, 3, 448, 640)\n"
     ]
    },
    {
     "data": {
      "text/plain": [
       "Counter({0.0: 16, 9.0: 2, 26.0: 1})"
      ]
     },
     "execution_count": 24,
     "metadata": {},
     "output_type": "execute_result"
    }
   ],
   "source": [
    "objs = model.predict[0].boxes.data.numpy()[:,-1]\n",
    "Counter(objs)"
   ]
  },
  {
   "cell_type": "code",
   "execution_count": 26,
   "metadata": {},
   "outputs": [
    {
     "name": "stdout",
     "output_type": "stream",
     "text": [
      "736169\n"
     ]
    }
   ],
   "source": [
    "# Your string\n",
    "sai_string = \"sai\"\n",
    "\n",
    "# Convert the string to hexadecimal representation\n",
    "hex_representation = ''.join(hex(ord(char))[2:] for char in sai_string)\n",
    "\n",
    "# Print the result\n",
    "print(hex_representation)\n",
    "\n"
   ]
  },
  {
   "cell_type": "code",
   "execution_count": 80,
   "metadata": {},
   "outputs": [
    {
     "name": "stdout",
     "output_type": "stream",
     "text": [
      "__sAi__\n"
     ]
    }
   ],
   "source": [
    "# Hexadecimal string\n",
    "hex_string = \"5f5f7341695f5f\"\n",
    "\n",
    "# Convert hexadecimal to ASCII string\n",
    "ascii_string = bytes.fromhex(hex_string).decode('utf-8')\n",
    "\n",
    "# Print the result\n",
    "print(ascii_string)\n"
   ]
  },
  {
   "cell_type": "code",
   "execution_count": 81,
   "metadata": {},
   "outputs": [
    {
     "data": {
      "text/plain": [
       "'0x5f'"
      ]
     },
     "execution_count": 81,
     "metadata": {},
     "output_type": "execute_result"
    }
   ],
   "source": [
    "'5f5f7341695f5f'\n",
    "hex(ord('_'))"
   ]
  }
 ],
 "metadata": {
  "kernelspec": {
   "display_name": "Python 3",
   "language": "python",
   "name": "python3"
  },
  "language_info": {
   "codemirror_mode": {
    "name": "ipython",
    "version": 3
   },
   "file_extension": ".py",
   "mimetype": "text/x-python",
   "name": "python",
   "nbconvert_exporter": "python",
   "pygments_lexer": "ipython3",
   "version": "3.11.6"
  }
 },
 "nbformat": 4,
 "nbformat_minor": 2
}
