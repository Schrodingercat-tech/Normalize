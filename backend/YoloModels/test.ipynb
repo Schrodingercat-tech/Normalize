{
 "cells": [
  {
   "cell_type": "code",
   "execution_count": null,
   "metadata": {},
   "outputs": [],
   "source": [
    "import requests\n",
    "from ImgHandle import responsePayload\n",
    "from PIL import Image\n",
    "from io import BytesIO\n",
    "\n",
    "url = ''"
   ]
  }
 ],
 "metadata": {
  "language_info": {
   "name": "python"
  }
 },
 "nbformat": 4,
 "nbformat_minor": 2
}
