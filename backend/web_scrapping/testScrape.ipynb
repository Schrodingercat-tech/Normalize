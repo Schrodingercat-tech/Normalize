{
 "cells": [
  {
   "cell_type": "code",
   "execution_count": 71,
   "metadata": {},
   "outputs": [],
   "source": [
    "import requests\n",
    "from bs4 import BeautifulSoup\n",
    "import os \n",
    "from scrape import Scrape\n",
    "import base64\n",
    "from PIL import Image\n",
    "from io import BytesIO\n",
    "import numpy as np\n",
    "\n",
    "\n",
    "google ='https://www.google.com/search?sca_esv=600041276&sxsrf=ACQVn0_RUykwboY7dF3jNpJUTiM-A_q2Wg:1705744065962&q=images&tbm=isch&source=univ&fir=RCeMr0bEsTo-dM%252CUsTmzJXQWCl48M%252C_%253BfY9reP86COngJM%252CB51x0PBR9KNzvM%252C_%253BASMDFNsL7Vw1YM%252CbKJ3gdlWTtaNoM%252C_%253BO4UUVHIdNMloBM%252CwmtphGet-P81vM%252C_%253BcLwX5fAoeFjuKM%252CU9G_8UXPMlqatM%252C_%253BWfXqNr4A_jby9M%252Ch3vvXPKTpwI8tM%252C_%253BhNFhKdO7-5jM2M%252Cm6SzmaAZIoirrM%252C_%253BnwiTKnJXTwcwcM%252CB51x0PBR9KNzvM%252C_%253BY8NKKCmLLDotWM%252CZaycYywhXLmIVM%252C_%253B0E5dDA82VanW3M%252CuEeA4F2Pf5UbvM%252C_%253B6MeImUpXaXBCeM%252Cm6SzmaAZIoirrM%252C_%253B4KvkDwp_KEUnnM%252CBa_eiczVaD9-zM%252C_%253B6mGtn8ErLXGqpM%252CLOFnE7wghBVyxM%252C_%253BDR0ovBqxtgqIGM%252CDw6kHKkn1szV-M%252C_%253BRq4uLs5-FkaxuM%252Cvq1GcTyldYiw8M%252C_%253BZ7EcYuUOddrqBM%252CryvaBjrAJRdr-M%252C_%253BT_0mmD1Ls0PmbM%252C7rBiYqbGOIETlM%252C_%253BBWWZsrSh-SXQUM%252CdeG6PP-oX95uqM%252C_%253B1IxL43Ml8rQf_M%252CbKJ3gdlWTtaNoM%252C_%253ByaMTBm-_EsKm2M%252CwmtphGet-P81vM%252C_%253B-1jZdCpHMS04RM%252C5o-TWu8oxtNdLM%252C_%253BX4cR4UBzM7Q8oM%252C2upAuqLeL-cWaM%252C_%253BtI766w5kKkxrTM%252CGAYubCMnDcwZgM%252C_%253BQ64aCh7-Phx4RM%252CUsTmzJXQWCl48M%252C_%253BoHzfjfpzcUL1wM%252C7xp99_iofFIXFM%252C_%253BUlxzj1TFEJtkjM%252CdeG6PP-oX95uqM%252C_%253Bd2HulEdu4jc9rM%252C5o-TWu8oxtNdLM%252C_%253BYmDohMp4T5AODM%252CExDvm63D_wCvSM%252C_&usg=AI4_-kSDZvYj2KmG4wGWLwfeYwLNh5OBAQ&sa=X&ved=2ahUKEwjyk4Tp1-uDAxVEcGwGHaGeDwoQsAR6BAgfEAM&biw=1440&bih=832&dpr=2'\n",
    "seasplash = 'https://unsplash.com/s/photos/deep-sea'\n",
    "watersplash = 'https://unsplash.com/s/photos/water'\n",
    "polyheaven = 'https://polyhaven.com/'\n",
    "wallpaperfare = 'https://www.wallpaperflare.com/'\n",
    "mainwallfare = 'https://www.wallpaperflare.com/cyberpunk-purple-fantasy-art-city-fantasy-city-concept-art-wallpaper-cvfaq/download'\n",
    "pixabay= 'https://pixabay.com/images/search/nature/'\n",
    "gears = 'https://dir.indiamart.com/search.mp?ss=gears&prdsrc=1&res=RC5&Mspl=0&qry_typ=P&res=RC5&Mspl=0&qry_typ=P&res=RC5&Mspl=0&qry_typ=P'\n",
    "boombmo = 'https://boodmo.com/catalog/5106-rear_brake_disc/'"
   ]
  },
  {
   "cell_type": "code",
   "execution_count": 73,
   "metadata": {},
   "outputs": [],
   "source": [
    "web = Scrape(boombmo)\n",
    "web.pullImages(Src='data-src')"
   ]
  },
  {
   "cell_type": "code",
   "execution_count": 3,
   "metadata": {},
   "outputs": [],
   "source": [
    "images = web.soup.find_all('img')\n",
    "n = np.random.randint(0,len(images))"
   ]
  },
  {
   "cell_type": "code",
   "execution_count": 75,
   "metadata": {},
   "outputs": [
    {
     "data": {
      "text/plain": [
       "<!DOCTYPE html>\n",
       "\n",
       "<html lang=\"en-IN\">\n",
       "<head>\n",
       "<title></title>\n",
       "<meta name=\"description\"/>\n",
       "<meta name=\"title\"/>\n",
       "<meta charset=\"utf-8\"/>\n",
       "<base href=\"/\"/>\n",
       "<meta content=\"app-id=1154010647\" name=\"apple-itunes-app\"/>\n",
       "<meta content=\"app-id=com.opsway.boodmo\" name=\"google-play-app\"/>\n",
       "<meta content=\"width=device-width, initial-scale=1\" name=\"viewport\"/>\n",
       "<!-- Start SmartBanner configuration -->\n",
       "<meta content=\"boodmo\" name=\"smartbanner:title\"/>\n",
       "<meta content=\"Smart Parts Expert\" name=\"smartbanner:author\"/>\n",
       "<meta content=\"FREE\" name=\"smartbanner:price\"/>\n",
       "<meta content=\" - On the App Store\" name=\"smartbanner:price-suffix-apple\"/>\n",
       "<meta content=\" - In Google Play\" name=\"smartbanner:price-suffix-google\"/>\n",
       "<meta content=\"https://boodmo.com/assets/icons/boodmo-app-icon.png\" name=\"smartbanner:icon-apple\"/>\n",
       "<meta content=\"https://boodmo.com/assets/icons/boodmo-app-icon.png\" name=\"smartbanner:icon-google\"/>\n",
       "<meta content=\"VIEW\" name=\"smartbanner:button\"/>\n",
       "<meta content=\"https://itunes.apple.com/in/app/id1154010647\" name=\"smartbanner:button-url-apple\"/>\n",
       "<meta content=\"https://play.google.com/store/apps/details?id=com.opsway.boodmo\" name=\"smartbanner:button-url-google\"/>\n",
       "<meta content=\"android,ios\" name=\"smartbanner:enabled-platforms\"/>\n",
       "<meta content=\"ios\" name=\"smartbanner:custom-design-modifier\"/>\n",
       "<meta content=\"Close\" name=\"smartbanner:close-label\"/>\n",
       "<!-- End SmartBanner configuration -->\n",
       "<meta property=\"og:title\"/>\n",
       "<meta property=\"og:description\"/>\n",
       "<meta property=\"og:url\"/>\n",
       "<meta property=\"og:image\"/>\n",
       "<meta content=\"website\" property=\"og:type\"/>\n",
       "<meta content=\"boodmo\" property=\"og:site_name\"/>\n",
       "<meta property=\"product:brand\"/>\n",
       "<meta property=\"product:condition\"/>\n",
       "<meta property=\"product:retailer_item_id\"/>\n",
       "<meta property=\"product:availability\"/>\n",
       "<meta property=\"product:price:amount\"/>\n",
       "<meta property=\"product:price:currency\"/>\n",
       "<meta property=\"product:sale_price:amount\"/>\n",
       "<meta property=\"product:sale_price:currency\"/>\n",
       "<link href=\"//d2r1yp2w7bby2u.cloudfront.net\" rel=\"dns-prefetch\"/>\n",
       "<link crossorigin=\"anonymous\" href=\"//d2r1yp2w7bby2u.cloudfront.net\" rel=\"preconnect\"/>\n",
       "<link href=\"//fonts.googleapis.com\" rel=\"dns-prefetch\"/>\n",
       "<link crossorigin=\"anonymous\" href=\"//fonts.googleapis.com\" rel=\"preconnect\"/>\n",
       "<link href=\"//s3.amazonaws.com\" rel=\"dns-prefetch\"/>\n",
       "<link crossorigin=\"anonymous\" href=\"//s3.amazonaws.com\" rel=\"preconnect\"/>\n",
       "<link href=\"//s3-eu-west-1.amazonaws.com\" rel=\"dns-prefetch\"/>\n",
       "<link crossorigin=\"anonymous\" href=\"//s3-eu-west-1.amazonaws.com\" rel=\"preconnect\"/>\n",
       "<link href=\"//boodmocom.freshdesk.com\" rel=\"dns-prefetch\"/>\n",
       "<link crossorigin=\"anonymous\" href=\"//boodmocom.freshdesk.com\" rel=\"preconnect\"/>\n",
       "<link href=\"//boodmo.com\" rel=\"dns-prefetch\"/>\n",
       "<link crossorigin=\"anonymous\" href=\"//boodmo.com\" rel=\"preconnect\"/>\n",
       "<link href=\"//static.boodmo.com\" rel=\"dns-prefetch\"/>\n",
       "<link crossorigin=\"anonymous\" href=\"//static.boodmo.com\" rel=\"preconnect\"/>\n",
       "<link href=\"//connect.facebook.net\" rel=\"dns-prefetch\"/>\n",
       "<link crossorigin=\"anonymous\" href=\"//connect.facebook.net\" rel=\"preconnect\"/>\n",
       "<link href=\"//static.xx.fbcdn.net\" rel=\"dns-prefetch\"/>\n",
       "<link crossorigin=\"anonymous\" href=\"//static.xx.fbcdn.net\" rel=\"preconnect\"/>\n",
       "<link href=\"//www.googletagmanager.com\" rel=\"dns-prefetch\"/>\n",
       "<link crossorigin=\"anonymous\" href=\"//www.googletagmanager.com\" rel=\"preconnect\"/>\n",
       "<link href=\"//www.googleadservices.com\" rel=\"dns-prefetch\"/>\n",
       "<link crossorigin=\"anonymous\" href=\"//www.googleadservices.com\" rel=\"preconnect\"/>\n",
       "<link href=\"//www.google-analytics.com\" rel=\"dns-prefetch\"/>\n",
       "<link crossorigin=\"anonymous\" href=\"//www.google-analytics.com\" rel=\"preconnect\"/>\n",
       "<link href=\"https://boodmo.com/assets/icons/favicon.ico\" rel=\"icon\" type=\"image/x-icon\">\n",
       "<link href=\"https://boodmo.com/assets/icons/favicon.ico\" rel=\"shortcut icon\" type=\"image/x-icon\">\n",
       "<link href=\"https://boodmo.com/assets/icons/apple-touch-icon.png\" rel=\"apple-touch-icon\">\n",
       "<link href=\"https://boodmo.com/assets/icons/apple-touch-icon-57x57.png\" rel=\"apple-touch-icon\" sizes=\"57x57\">\n",
       "<link href=\"https://boodmo.com/assets/icons/apple-touch-icon-72x72.png\" rel=\"apple-touch-icon\" sizes=\"72x72\">\n",
       "<link href=\"https://boodmo.com/assets/icons/apple-touch-icon-76x76.png\" rel=\"apple-touch-icon\" sizes=\"76x76\">\n",
       "<link href=\"https://boodmo.com/assets/icons/apple-touch-icon-114x114.png\" rel=\"apple-touch-icon\" sizes=\"114x114\">\n",
       "<link href=\"https://boodmo.com/assets/icons/apple-touch-icon-120x120.png\" rel=\"apple-touch-icon\" sizes=\"120x120\">\n",
       "<link href=\"https://boodmo.com/assets/icons/apple-touch-icon-144x144.png\" rel=\"apple-touch-icon\" sizes=\"144x144\">\n",
       "<link href=\"https://boodmo.com/assets/icons/apple-touch-icon-152x152.png\" rel=\"apple-touch-icon\" sizes=\"152x152\">\n",
       "<link href=\"https://boodmo.com/assets/icons/apple-touch-icon-180x180.png\" rel=\"apple-touch-icon\" sizes=\"180x180\">\n",
       "<link crossorigin=\"use-credentials\" href=\"manifest.json\" rel=\"manifest\"/>\n",
       "<meta content=\"#12477A\" name=\"theme-color\"/>\n",
       "<meta content=\"yes\" name=\"mobile-web-app-capable\"/>\n",
       "<meta content=\"yes\" name=\"apple-mobile-web-app-capable\"/>\n",
       "<link as=\"font\" crossorigin=\"\" href=\"https://boodmo.com/assets/fonts/icomoon.woff\" rel=\"prefetch\" type=\"font/woff\">\n",
       "<link as=\"manifest\" crossorigin=\"\" href=\"manifest.json\" rel=\"prefetch\" type=\"application/manifest+json\">\n",
       "<link as=\"script\" crossorigin=\"\" href=\"/main-worker.js\" rel=\"prefetch\">\n",
       "<style type=\"text/css\">\n",
       "    ngx-root:empty::after {\n",
       "      content: 'Loading…';\n",
       "      font-family: Arial, sans-serif;\n",
       "      color: #12477A;\n",
       "      width: 100px;\n",
       "      height: 100px;\n",
       "      position: absolute;\n",
       "      display: block;\n",
       "      top: 50%;\n",
       "      left: 50%;\n",
       "      font-size: 1.5rem;\n",
       "      transform: translate(-50%, -50%);\n",
       "    }\n",
       "  </style>\n",
       "<link crossorigin=\"anonymous\" href=\"https://boodmo.com/styles.7a784a780a1ff805.css\" rel=\"stylesheet\"/></link></link></link></link></link></link></link></link></link></link></link></link></link></link></head>\n",
       "<body>\n",
       "<ngx-root></ngx-root>\n",
       "<script async=\"\" defer=\"\" src=\"https://accounts.google.com/gsi/client\"></script>\n",
       "<script crossorigin=\"anonymous\" src=\"https://boodmo.com/runtime.0c3dc84d62727888.js\" type=\"module\"></script><script crossorigin=\"anonymous\" src=\"https://boodmo.com/polyfills.02ae4088bb3278cf.js\" type=\"module\"></script><script crossorigin=\"anonymous\" defer=\"\" src=\"https://boodmo.com/scripts.544abe292f782267.js\"></script><script crossorigin=\"anonymous\" src=\"https://boodmo.com/main.9c9346b7c54827cf.js\" type=\"module\"></script><script>(function(){var js = \"window['__CF$cv$params']={r:'84872681697e3d1f',t:'MTcwNTc1MTk1Ni43NDcwMDA='};_cpo=document.createElement('script');_cpo.nonce='',_cpo.src='/cdn-cgi/challenge-platform/scripts/jsd/main.js',document.getElementsByTagName('head')[0].appendChild(_cpo);\";var _0xh = document.createElement('iframe');_0xh.height = 1;_0xh.width = 1;_0xh.style.position = 'absolute';_0xh.style.top = 0;_0xh.style.left = 0;_0xh.style.border = 'none';_0xh.style.visibility = 'hidden';document.body.appendChild(_0xh);function handler() {var _0xi = _0xh.contentDocument || _0xh.contentWindow.document;if (_0xi) {var _0xj = _0xi.createElement('script');_0xj.innerHTML = js;_0xi.getElementsByTagName('head')[0].appendChild(_0xj);}}if (document.readyState !== 'loading') {handler();} else if (window.addEventListener) {document.addEventListener('DOMContentLoaded', handler);} else {var prev = document.onreadystatechange || function () {};document.onreadystatechange = function (e) {prev(e);if (document.readyState !== 'loading') {document.onreadystatechange = prev;handler();}};}})();</script><script crossorigin=\"anonymous\" data-cf-beacon='{\"rayId\":\"84872681697e3d1f\",\"b\":1,\"version\":\"2024.1.0\",\"token\":\"5fd8fbdc2dd047898e7d04e8b1038bc7\"}' defer=\"\" integrity=\"sha512-euoFGowhlaLqXsPWQ48qSkBSCFs3DPRyiwVu3FjR96cMPx+Fr+gpWRhIafcHwqwCqWS42RZhIudOvEI+Ckf6MA==\" src=\"https://static.cloudflareinsights.com/beacon.min.js/v84a3a4012de94ce1a686ba8c167c359c1696973893317\"></script>\n",
       "</body>\n",
       "</html>"
      ]
     },
     "execution_count": 75,
     "metadata": {},
     "output_type": "execute_result"
    }
   ],
   "source": [
    "web.soup"
   ]
  },
  {
   "cell_type": "code",
   "execution_count": 5,
   "metadata": {},
   "outputs": [
    {
     "name": "stdout",
     "output_type": "stream",
     "text": [
      "'src'\n"
     ]
    }
   ],
   "source": [
    "try:\n",
    "    data_src = images[n]['data-src'] # low res img\n",
    "    data_srcset = images[n]['data-srcset'] # set of images based on user screen\n",
    "    src = images[n]['src'] # main source image | also base64 image can be encoded in this\n",
    "   \n",
    "except Exception as e:\n",
    "    print(e)\n",
    "\n"
   ]
  },
  {
   "cell_type": "code",
   "execution_count": 27,
   "metadata": {},
   "outputs": [
    {
     "data": {
      "text/plain": [
       "<Response [200]>"
      ]
     },
     "execution_count": 27,
     "metadata": {},
     "output_type": "execute_result"
    }
   ],
   "source": [
    "n = np.random.randint(0,len(images))\n",
    "srcset = images[n]['data-src'].split(',')\n",
    "res = requests.get(srcset[0])\n",
    "res"
   ]
  },
  {
   "cell_type": "code",
   "execution_count": 28,
   "metadata": {},
   "outputs": [
    {
     "data": {
      "text/plain": [
       "['https://c4.wallpaperflare.com/wallpaper/990/547/605/digital-art-futuristic-city-car-artwork-wallpaper-thumb.jpg']"
      ]
     },
     "execution_count": 28,
     "metadata": {},
     "output_type": "execute_result"
    }
   ],
   "source": [
    "srcset"
   ]
  },
  {
   "cell_type": "code",
   "execution_count": null,
   "metadata": {},
   "outputs": [],
   "source": []
  }
 ],
 "metadata": {
  "kernelspec": {
   "display_name": "Python 3",
   "language": "python",
   "name": "python3"
  },
  "language_info": {
   "codemirror_mode": {
    "name": "ipython",
    "version": 3
   },
   "file_extension": ".py",
   "mimetype": "text/x-python",
   "name": "python",
   "nbconvert_exporter": "python",
   "pygments_lexer": "ipython3",
   "version": "3.11.6"
  }
 },
 "nbformat": 4,
 "nbformat_minor": 2
}
