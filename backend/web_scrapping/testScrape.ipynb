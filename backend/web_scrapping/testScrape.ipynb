{
 "cells": [
  {
   "cell_type": "code",
   "execution_count": 4,
   "metadata": {},
   "outputs": [
    {
     "data": {
      "text/plain": [
       "{'User-Agent': 'Mozilla/5.0(windows NT 10.0; Win64; x64; rv:84.0) Gecko/20100101 Firefox/84.0',\n",
       " 'Accept-Language': 'en-GB,en;q=0.5',\n",
       " 'Referer': 'https://google.com',\n",
       " 'DNT': '1'}"
      ]
     },
     "execution_count": 4,
     "metadata": {},
     "output_type": "execute_result"
    }
   ],
   "source": [
    "import requests\n",
    "from bs4 import BeautifulSoup\n",
    "import os \n",
    "from scrape import Scrape\n",
    "\n",
    "url = \"https://www.google.com/search?q=python\"\n",
    "\n",
    "web = Scrape(url).headers\n",
    "web\n",
    "\n"
   ]
  }
 ],
 "metadata": {
  "kernelspec": {
   "display_name": "Python 3",
   "language": "python",
   "name": "python3"
  },
  "language_info": {
   "codemirror_mode": {
    "name": "ipython",
    "version": 3
   },
   "file_extension": ".py",
   "mimetype": "text/x-python",
   "name": "python",
   "nbconvert_exporter": "python",
   "pygments_lexer": "ipython3",
   "version": "3.11.6"
  }
 },
 "nbformat": 4,
 "nbformat_minor": 2
}
